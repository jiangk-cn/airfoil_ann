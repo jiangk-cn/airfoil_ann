{
 "cells": [
  {
   "cell_type": "code",
   "execution_count": 25,
   "metadata": {},
   "outputs": [],
   "source": [
    "from tensorflow.keras.models import load_model\n",
    "from sklearn.preprocessing import MinMaxScaler\n",
    "from sklearn.preprocessing import StandardScaler\n",
    "from sklearn.model_selection import train_test_split\n",
    "import pandas as pd\n",
    "import numpy as np\n",
    "import matplotlib.pyplot as plt"
   ]
  },
  {
   "cell_type": "code",
   "execution_count": 26,
   "metadata": {},
   "outputs": [
    {
     "name": "stdout",
     "output_type": "stream",
     "text": [
      "Model: \"sequential\"\n",
      "_________________________________________________________________\n",
      " Layer (type)                Output Shape              Param #   \n",
      "=================================================================\n",
      " dense (Dense)               (None, 128)               512       \n",
      "                                                                 \n",
      " dense_1 (Dense)             (None, 64)                8256      \n",
      "                                                                 \n",
      " dense_2 (Dense)             (None, 32)                2080      \n",
      "                                                                 \n",
      " dense_3 (Dense)             (None, 16)                528       \n",
      "                                                                 \n",
      " dense_4 (Dense)             (None, 8)                 136       \n",
      "                                                                 \n",
      " dense_5 (Dense)             (None, 3)                 27        \n",
      "                                                                 \n",
      "=================================================================\n",
      "Total params: 11,539\n",
      "Trainable params: 11,539\n",
      "Non-trainable params: 0\n",
      "_________________________________________________________________\n"
     ]
    }
   ],
   "source": [
    "# Load the model from the file\n",
    "model = load_model('clark-y-cnn.h5')\n",
    "model.summary()"
   ]
  },
  {
   "cell_type": "code",
   "execution_count": 27,
   "metadata": {},
   "outputs": [],
   "source": [
    "# Load the data\n",
    "df = pd.read_csv('clark-y-2.csv')\n",
    "\n",
    "# Filter the data\n",
    "filtered_df = df[\n",
    "    (df['Reynold'] >= 0.1e5) & (df['Reynold'] <= 40e5) &  # 雷诺数范围\n",
    "    (df['Mach'] >= 0.1) & (df['Mach'] <= 0.7) &            # 马赫数范围\n",
    "    (df['Alpha'] >= -3) & (df['Alpha'] <= 15)              # 迎角范围\n",
    "]\n",
    "\n",
    "# Split the data into inputs (X) and outputs (y)\n",
    "X = filtered_df[['Reynold', 'Mach', 'Alpha']].values\n",
    "y = filtered_df[['cl', 'cd', 'cm']].values\n",
    "\n",
    "X_train, X_test, y_train, y_test = train_test_split(X, y, test_size = 0.2, random_state = 29)"
   ]
  },
  {
   "cell_type": "code",
   "execution_count": 28,
   "metadata": {},
   "outputs": [],
   "source": [
    "# Define scaler \n",
    "scaler = StandardScaler()\n",
    "scalery = StandardScaler()\n",
    "\n",
    "X_train = scaler.fit_transform(X_train)\n",
    "X_test = scaler.transform(X_test)\n",
    "\n",
    "y_train = scalery.fit_transform(y_train)\n",
    "y_test = scalery.transform(y_test)"
   ]
  },
  {
   "cell_type": "code",
   "execution_count": 31,
   "metadata": {},
   "outputs": [
    {
     "name": "stdout",
     "output_type": "stream",
     "text": [
      "4/4 [==============================] - 0s 30ms/step\n",
      "4/4 [==============================] - 0s 73ms/step\n",
      "4/4 [==============================] - 0s 134ms/step\n",
      "4/4 [==============================] - 0s 1ms/step\n",
      "4/4 [==============================] - 0s 2ms/step\n",
      "4/4 [==============================] - 0s 1ms/step\n",
      "4/4 [==============================] - 0s 19ms/step\n"
     ]
    }
   ],
   "source": [
    "# Desired alpha\n",
    "desire_re = 2636315\n",
    "desire_machs = [0.1,0.2,0.3,0.4,0.5,0.6,0.7000000000000001]\n",
    "alpha_values = np.linspace(-3, 15, 100)\n",
    "\n",
    "# new X\n",
    "for i in range(len(desire_machs)):\n",
    "    desire_mach = desire_machs[i]\n",
    "    new_X = np.array([[desire_re, desire_mach, alpha] for alpha in alpha_values])\n",
    "    new_X_scaled = scaler.transform(new_X)\n",
    "\n",
    "    # use model to predict new values\n",
    "    predictions = model.predict(new_X_scaled)\n",
    "    predictions = scalery.inverse_transform(predictions)\n",
    "\n",
    "    # extract predicted Cl, Cd, Cm\n",
    "    predicted_cl = predictions[:, 0]\n",
    "    predicted_cd = predictions[:, 1]\n",
    "    predicted_cm = predictions[:, 2]\n",
    "\n",
    "    # original data\n",
    "    filtered_df = df[(df['Reynold'] == desire_re) & (df['Mach'] == desire_mach)]\n",
    "    original_alpha = filtered_df['Alpha'].values\n",
    "    original_cl = filtered_df['cl'].values\n",
    "    original_cd = filtered_df['cd'].values\n",
    "    original_cm = filtered_df['cm'].values\n",
    "\n",
    "    # plotting\n",
    "    plt.figure(figsize=(15, 5))\n",
    "\n",
    "    plt.subplot(1, 3, 1)    # Cl\n",
    "    plt.plot(alpha_values, predicted_cl, label='Predicted Cl', color='blue')\n",
    "    plt.scatter(original_alpha, original_cl, label='Original Cl', color='orange')\n",
    "    plt.title(f'Re = {desire_re:.0f} Mach = {desire_mach:.2f} \\n Cl vs Alpha')\n",
    "    plt.xlabel('Alpha')\n",
    "    plt.ylabel('Cl')\n",
    "    plt.legend()\n",
    "\n",
    "    plt.subplot(1, 3, 2)    # Cd\n",
    "    plt.plot(alpha_values, predicted_cd, label='Predicted Cd', color='blue')\n",
    "    plt.scatter(original_alpha, original_cd, label='Original Cd', color='orange')\n",
    "    plt.title(f'Re = {desire_re:.0f} Mach = {desire_mach:.2f} \\n Cd vs Alpha')\n",
    "    plt.xlabel('Alpha')\n",
    "    plt.ylabel('Cd')\n",
    "    plt.legend()\n",
    "\n",
    "    plt.subplot(1, 3, 3)    # Cm\n",
    "    plt.plot(alpha_values, predicted_cm, label='Predicted Cm', color='blue')\n",
    "    plt.scatter(original_alpha, original_cm, label='Original Cm', color='orange')\n",
    "    plt.title(f'Re = {desire_re:.0f} Mach = {desire_mach:.2f} \\n Cm vs Alpha')\n",
    "    plt.xlabel('Alpha')\n",
    "    plt.ylabel('Cm')\n",
    "    plt.legend()\n",
    "    \n",
    "    plt.tight_layout()\n",
    "\n",
    "    # Save as SVG\n",
    "    plt.savefig(f'plot_Re{desire_re:.0f}_Mach{desire_mach:.2f}.svg', format='svg')\n",
    "    plt.close()"
   ]
  }
 ],
 "metadata": {
  "kernelspec": {
   "display_name": "annenv",
   "language": "python",
   "name": "python3"
  },
  "language_info": {
   "codemirror_mode": {
    "name": "ipython",
    "version": 3
   },
   "file_extension": ".py",
   "mimetype": "text/x-python",
   "name": "python",
   "nbconvert_exporter": "python",
   "pygments_lexer": "ipython3",
   "version": "3.8.15"
  }
 },
 "nbformat": 4,
 "nbformat_minor": 2
}
